{
 "cells": [
  {
   "cell_type": "code",
   "execution_count": 1,
   "metadata": {},
   "outputs": [],
   "source": [
    "import re\n",
    "import pandas as pd"
   ]
  },
  {
   "cell_type": "code",
   "execution_count": 2,
   "metadata": {},
   "outputs": [
    {
     "data": {
      "text/html": [
       "<div>\n",
       "<style scoped>\n",
       "    .dataframe tbody tr th:only-of-type {\n",
       "        vertical-align: middle;\n",
       "    }\n",
       "\n",
       "    .dataframe tbody tr th {\n",
       "        vertical-align: top;\n",
       "    }\n",
       "\n",
       "    .dataframe thead th {\n",
       "        text-align: right;\n",
       "    }\n",
       "</style>\n",
       "<table border=\"1\" class=\"dataframe\">\n",
       "  <thead>\n",
       "    <tr style=\"text-align: right;\">\n",
       "      <th></th>\n",
       "      <th>category</th>\n",
       "      <th>sub_category</th>\n",
       "      <th>company_url</th>\n",
       "    </tr>\n",
       "  </thead>\n",
       "  <tbody>\n",
       "    <tr>\n",
       "      <th>0</th>\n",
       "      <td>Animals &amp; Pets</td>\n",
       "      <td>Animal Health</td>\n",
       "      <td>https://www.trustpilot.com/review/remedyhut.com</td>\n",
       "    </tr>\n",
       "    <tr>\n",
       "      <th>1</th>\n",
       "      <td>Animals &amp; Pets</td>\n",
       "      <td>Animal Health</td>\n",
       "      <td>https://www.trustpilot.com/review/ocvh.com</td>\n",
       "    </tr>\n",
       "    <tr>\n",
       "      <th>2</th>\n",
       "      <td>Animals &amp; Pets</td>\n",
       "      <td>Animal Health</td>\n",
       "      <td>https://www.trustpilot.com/contact</td>\n",
       "    </tr>\n",
       "    <tr>\n",
       "      <th>3</th>\n",
       "      <td>Animals &amp; Pets</td>\n",
       "      <td>Animal Health</td>\n",
       "      <td>https://www.linkedin.com/company/trustpilot/</td>\n",
       "    </tr>\n",
       "    <tr>\n",
       "      <th>4</th>\n",
       "      <td>Animals &amp; Pets</td>\n",
       "      <td>Animal Health</td>\n",
       "      <td>https://status.trustpilot.com/</td>\n",
       "    </tr>\n",
       "  </tbody>\n",
       "</table>\n",
       "</div>"
      ],
      "text/plain": [
       "         category   sub_category  \\\n",
       "0  Animals & Pets  Animal Health   \n",
       "1  Animals & Pets  Animal Health   \n",
       "2  Animals & Pets  Animal Health   \n",
       "3  Animals & Pets  Animal Health   \n",
       "4  Animals & Pets  Animal Health   \n",
       "\n",
       "                                       company_url  \n",
       "0  https://www.trustpilot.com/review/remedyhut.com  \n",
       "1       https://www.trustpilot.com/review/ocvh.com  \n",
       "2               https://www.trustpilot.com/contact  \n",
       "3     https://www.linkedin.com/company/trustpilot/  \n",
       "4                   https://status.trustpilot.com/  "
      ]
     },
     "execution_count": 2,
     "metadata": {},
     "output_type": "execute_result"
    }
   ],
   "source": [
    "data = pd.read_csv('company_urls_en.csv')\n",
    "data.head()"
   ]
  },
  {
   "cell_type": "code",
   "execution_count": 6,
   "metadata": {},
   "outputs": [
    {
     "data": {
      "text/plain": [
       "12992"
      ]
     },
     "execution_count": 6,
     "metadata": {},
     "output_type": "execute_result"
    }
   ],
   "source": [
    "len(data)"
   ]
  },
  {
   "cell_type": "code",
   "execution_count": 8,
   "metadata": {},
   "outputs": [
    {
     "name": "stdout",
     "output_type": "stream",
     "text": [
      "<class 'pandas.core.frame.DataFrame'>\n",
      "RangeIndex: 12992 entries, 0 to 12991\n",
      "Data columns (total 3 columns):\n",
      " #   Column        Non-Null Count  Dtype \n",
      "---  ------        --------------  ----- \n",
      " 0   category      12992 non-null  object\n",
      " 1   sub_category  12992 non-null  object\n",
      " 2   company_url   12992 non-null  object\n",
      "dtypes: object(3)\n",
      "memory usage: 304.6+ KB\n"
     ]
    }
   ],
   "source": [
    "data.info()"
   ]
  },
  {
   "cell_type": "code",
   "execution_count": 3,
   "metadata": {},
   "outputs": [
    {
     "data": {
      "text/html": [
       "<div>\n",
       "<style scoped>\n",
       "    .dataframe tbody tr th:only-of-type {\n",
       "        vertical-align: middle;\n",
       "    }\n",
       "\n",
       "    .dataframe tbody tr th {\n",
       "        vertical-align: top;\n",
       "    }\n",
       "\n",
       "    .dataframe thead th {\n",
       "        text-align: right;\n",
       "    }\n",
       "</style>\n",
       "<table border=\"1\" class=\"dataframe\">\n",
       "  <thead>\n",
       "    <tr style=\"text-align: right;\">\n",
       "      <th></th>\n",
       "      <th>category</th>\n",
       "      <th>sub_category</th>\n",
       "      <th>company_url</th>\n",
       "    </tr>\n",
       "  </thead>\n",
       "  <tbody>\n",
       "  </tbody>\n",
       "</table>\n",
       "</div>"
      ],
      "text/plain": [
       "Empty DataFrame\n",
       "Columns: [category, sub_category, company_url]\n",
       "Index: []"
      ]
     },
     "execution_count": 3,
     "metadata": {},
     "output_type": "execute_result"
    }
   ],
   "source": [
    "clean_data = pd.DataFrame(columns =['category' , 'sub_category' , 'company_url'])\n",
    "clean_data"
   ]
  },
  {
   "cell_type": "code",
   "execution_count": 18,
   "metadata": {},
   "outputs": [],
   "source": [
    "for i in range(len(data)):\n",
    "    if re.search('^https://www.trustpilot.com/review/*' , data['company_url'].loc[i]):\n",
    "        clean_data = clean_data.append({'category': data.category.loc[i],\n",
    "                                        'sub_category': data.sub_category.loc[i] ,\n",
    "                                        'company_url': data.company_url.loc[i]} ,\n",
    "                                          ignore_index= True)\n"
   ]
  },
  {
   "cell_type": "code",
   "execution_count": 19,
   "metadata": {},
   "outputs": [
    {
     "data": {
      "text/html": [
       "<div>\n",
       "<style scoped>\n",
       "    .dataframe tbody tr th:only-of-type {\n",
       "        vertical-align: middle;\n",
       "    }\n",
       "\n",
       "    .dataframe tbody tr th {\n",
       "        vertical-align: top;\n",
       "    }\n",
       "\n",
       "    .dataframe thead th {\n",
       "        text-align: right;\n",
       "    }\n",
       "</style>\n",
       "<table border=\"1\" class=\"dataframe\">\n",
       "  <thead>\n",
       "    <tr style=\"text-align: right;\">\n",
       "      <th></th>\n",
       "      <th>category</th>\n",
       "      <th>sub_category</th>\n",
       "      <th>company_url</th>\n",
       "    </tr>\n",
       "  </thead>\n",
       "  <tbody>\n",
       "    <tr>\n",
       "      <th>0</th>\n",
       "      <td>Animals &amp; Pets</td>\n",
       "      <td>Animal Health</td>\n",
       "      <td>https://www.trustpilot.com/review/remedyhut.com</td>\n",
       "    </tr>\n",
       "    <tr>\n",
       "      <th>1</th>\n",
       "      <td>Animals &amp; Pets</td>\n",
       "      <td>Animal Health</td>\n",
       "      <td>https://www.trustpilot.com/review/ocvh.com</td>\n",
       "    </tr>\n",
       "    <tr>\n",
       "      <th>2</th>\n",
       "      <td>Animals &amp; Pets</td>\n",
       "      <td>Animal Health</td>\n",
       "      <td>https://www.trustpilot.com/review/pawprintgene...</td>\n",
       "    </tr>\n",
       "    <tr>\n",
       "      <th>3</th>\n",
       "      <td>Animals &amp; Pets</td>\n",
       "      <td>Animal Health</td>\n",
       "      <td>https://www.trustpilot.com/review/caninehealth...</td>\n",
       "    </tr>\n",
       "    <tr>\n",
       "      <th>4</th>\n",
       "      <td>Animals &amp; Pets</td>\n",
       "      <td>Animal Health</td>\n",
       "      <td>https://www.trustpilot.com/review/stagingmybud...</td>\n",
       "    </tr>\n",
       "  </tbody>\n",
       "</table>\n",
       "</div>"
      ],
      "text/plain": [
       "         category   sub_category  \\\n",
       "0  Animals & Pets  Animal Health   \n",
       "1  Animals & Pets  Animal Health   \n",
       "2  Animals & Pets  Animal Health   \n",
       "3  Animals & Pets  Animal Health   \n",
       "4  Animals & Pets  Animal Health   \n",
       "\n",
       "                                         company_url  \n",
       "0    https://www.trustpilot.com/review/remedyhut.com  \n",
       "1         https://www.trustpilot.com/review/ocvh.com  \n",
       "2  https://www.trustpilot.com/review/pawprintgene...  \n",
       "3  https://www.trustpilot.com/review/caninehealth...  \n",
       "4  https://www.trustpilot.com/review/stagingmybud...  "
      ]
     },
     "execution_count": 19,
     "metadata": {},
     "output_type": "execute_result"
    }
   ],
   "source": [
    "clean_data.head()"
   ]
  },
  {
   "cell_type": "code",
   "execution_count": 46,
   "metadata": {},
   "outputs": [
    {
     "data": {
      "text/html": [
       "<div>\n",
       "<style scoped>\n",
       "    .dataframe tbody tr th:only-of-type {\n",
       "        vertical-align: middle;\n",
       "    }\n",
       "\n",
       "    .dataframe tbody tr th {\n",
       "        vertical-align: top;\n",
       "    }\n",
       "\n",
       "    .dataframe thead th {\n",
       "        text-align: right;\n",
       "    }\n",
       "</style>\n",
       "<table border=\"1\" class=\"dataframe\">\n",
       "  <thead>\n",
       "    <tr style=\"text-align: right;\">\n",
       "      <th></th>\n",
       "      <th>category</th>\n",
       "      <th>sub_category</th>\n",
       "      <th>company_url</th>\n",
       "    </tr>\n",
       "  </thead>\n",
       "  <tbody>\n",
       "    <tr>\n",
       "      <th>0</th>\n",
       "      <td>Animals &amp; Pets</td>\n",
       "      <td>Animal Health</td>\n",
       "      <td>https://www.trustpilot.com/review/remedyhut.com</td>\n",
       "    </tr>\n",
       "    <tr>\n",
       "      <th>1</th>\n",
       "      <td>Animals &amp; Pets</td>\n",
       "      <td>Animal Health</td>\n",
       "      <td>https://www.trustpilot.com/review/ocvh.com</td>\n",
       "    </tr>\n",
       "    <tr>\n",
       "      <th>2</th>\n",
       "      <td>Animals &amp; Pets</td>\n",
       "      <td>Animal Health</td>\n",
       "      <td>https://www.trustpilot.com/contact</td>\n",
       "    </tr>\n",
       "    <tr>\n",
       "      <th>3</th>\n",
       "      <td>Animals &amp; Pets</td>\n",
       "      <td>Animal Health</td>\n",
       "      <td>https://www.linkedin.com/company/trustpilot/</td>\n",
       "    </tr>\n",
       "    <tr>\n",
       "      <th>4</th>\n",
       "      <td>Animals &amp; Pets</td>\n",
       "      <td>Animal Health</td>\n",
       "      <td>https://status.trustpilot.com/</td>\n",
       "    </tr>\n",
       "    <tr>\n",
       "      <th>5</th>\n",
       "      <td>Animals &amp; Pets</td>\n",
       "      <td>Animal Health</td>\n",
       "      <td>https://www.trustpilot.com/users/connect?redir...</td>\n",
       "    </tr>\n",
       "    <tr>\n",
       "      <th>6</th>\n",
       "      <td>Animals &amp; Pets</td>\n",
       "      <td>Animal Health</td>\n",
       "      <td>https://support.trustpilot.com/</td>\n",
       "    </tr>\n",
       "    <tr>\n",
       "      <th>7</th>\n",
       "      <td>Animals &amp; Pets</td>\n",
       "      <td>Animal Health</td>\n",
       "      <td>https://legal.trustpilot.com/user-guidelines</td>\n",
       "    </tr>\n",
       "    <tr>\n",
       "      <th>8</th>\n",
       "      <td>Animals &amp; Pets</td>\n",
       "      <td>Animal Health</td>\n",
       "      <td>https://chrome.google.com/webstore/detail/trus...</td>\n",
       "    </tr>\n",
       "    <tr>\n",
       "      <th>9</th>\n",
       "      <td>Animals &amp; Pets</td>\n",
       "      <td>Animal Health</td>\n",
       "      <td>https://business.trustpilot.com/reviews</td>\n",
       "    </tr>\n",
       "    <tr>\n",
       "      <th>10</th>\n",
       "      <td>Animals &amp; Pets</td>\n",
       "      <td>Animal Health</td>\n",
       "      <td>https://businessapp.b2b.trustpilot.com/?locale...</td>\n",
       "    </tr>\n",
       "    <tr>\n",
       "      <th>11</th>\n",
       "      <td>Animals &amp; Pets</td>\n",
       "      <td>Animal Health</td>\n",
       "      <td>https://legal.trustpilot.com/end-user-terms-an...</td>\n",
       "    </tr>\n",
       "    <tr>\n",
       "      <th>12</th>\n",
       "      <td>Animals &amp; Pets</td>\n",
       "      <td>Animal Health</td>\n",
       "      <td>https://www.trustpilot.com/review/pawprintgene...</td>\n",
       "    </tr>\n",
       "    <tr>\n",
       "      <th>13</th>\n",
       "      <td>Animals &amp; Pets</td>\n",
       "      <td>Animal Health</td>\n",
       "      <td>https://legal.trustpilot.com/end-user-privacy-...</td>\n",
       "    </tr>\n",
       "    <tr>\n",
       "      <th>14</th>\n",
       "      <td>Animals &amp; Pets</td>\n",
       "      <td>Animal Health</td>\n",
       "      <td>https://www.trustpilot.com/review/caninehealth...</td>\n",
       "    </tr>\n",
       "  </tbody>\n",
       "</table>\n",
       "</div>"
      ],
      "text/plain": [
       "          category   sub_category  \\\n",
       "0   Animals & Pets  Animal Health   \n",
       "1   Animals & Pets  Animal Health   \n",
       "2   Animals & Pets  Animal Health   \n",
       "3   Animals & Pets  Animal Health   \n",
       "4   Animals & Pets  Animal Health   \n",
       "5   Animals & Pets  Animal Health   \n",
       "6   Animals & Pets  Animal Health   \n",
       "7   Animals & Pets  Animal Health   \n",
       "8   Animals & Pets  Animal Health   \n",
       "9   Animals & Pets  Animal Health   \n",
       "10  Animals & Pets  Animal Health   \n",
       "11  Animals & Pets  Animal Health   \n",
       "12  Animals & Pets  Animal Health   \n",
       "13  Animals & Pets  Animal Health   \n",
       "14  Animals & Pets  Animal Health   \n",
       "\n",
       "                                          company_url  \n",
       "0     https://www.trustpilot.com/review/remedyhut.com  \n",
       "1          https://www.trustpilot.com/review/ocvh.com  \n",
       "2                  https://www.trustpilot.com/contact  \n",
       "3        https://www.linkedin.com/company/trustpilot/  \n",
       "4                      https://status.trustpilot.com/  \n",
       "5   https://www.trustpilot.com/users/connect?redir...  \n",
       "6                     https://support.trustpilot.com/  \n",
       "7        https://legal.trustpilot.com/user-guidelines  \n",
       "8   https://chrome.google.com/webstore/detail/trus...  \n",
       "9             https://business.trustpilot.com/reviews  \n",
       "10  https://businessapp.b2b.trustpilot.com/?locale...  \n",
       "11  https://legal.trustpilot.com/end-user-terms-an...  \n",
       "12  https://www.trustpilot.com/review/pawprintgene...  \n",
       "13  https://legal.trustpilot.com/end-user-privacy-...  \n",
       "14  https://www.trustpilot.com/review/caninehealth...  "
      ]
     },
     "execution_count": 46,
     "metadata": {},
     "output_type": "execute_result"
    }
   ],
   "source": [
    "data.head(15)"
   ]
  },
  {
   "cell_type": "code",
   "execution_count": 24,
   "metadata": {},
   "outputs": [],
   "source": [
    "clean_data.to_csv('clean_data.csv')"
   ]
  },
  {
   "cell_type": "code",
   "execution_count": null,
   "metadata": {},
   "outputs": [],
   "source": []
  }
 ],
 "metadata": {
  "kernelspec": {
   "display_name": "Python 3",
   "language": "python",
   "name": "python3"
  },
  "language_info": {
   "codemirror_mode": {
    "name": "ipython",
    "version": 3
   },
   "file_extension": ".py",
   "mimetype": "text/x-python",
   "name": "python",
   "nbconvert_exporter": "python",
   "pygments_lexer": "ipython3",
   "version": "3.6.8"
  }
 },
 "nbformat": 4,
 "nbformat_minor": 4
}
