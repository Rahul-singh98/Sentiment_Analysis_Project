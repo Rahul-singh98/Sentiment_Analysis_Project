{
 "cells": [
  {
   "cell_type": "markdown",
   "metadata": {},
   "source": [
    "This contains selenium codes to scrap company urls from [trustpilot.com](https://fr.trustpilot.com/)"
   ]
  },
  {
   "cell_type": "markdown",
   "metadata": {},
   "source": [
    "## Why Selenium :-\n",
    "    "
   ]
  },
  {
   "cell_type": "markdown",
   "metadata": {},
   "source": [
    "# automation for \"Facebook Login Page\"\n",
    "\n",
    "    from selenium import webdriver\n",
    "    from selenium.webdriver.common.keys import Keys\n",
    "\n",
    "    user_name = 'your_username'\n",
    "    password = 'your_password'\n",
    "\n",
    "    driver = webdriver.Chrome('/usr/bin/chromedriver')\n",
    "    driver.get('https://www.facebook.com')\n",
    "\n",
    "    element = driver.find_element_by_id('email')\n",
    "    element.send_keys(user_name)\n",
    "\n",
    "    element = driver.find_element_by_id('pass')\n",
    "    element.send_keys(password)\n",
    "    element.send_keys(Keys.RETURN)\n"
   ]
  },
  {
   "cell_type": "code",
   "execution_count": 13,
   "metadata": {},
   "outputs": [],
   "source": [
    "%config Completer.use_jedi=False"
   ]
  },
  {
   "cell_type": "code",
   "execution_count": 21,
   "metadata": {},
   "outputs": [],
   "source": [
    "import json\n",
    "import time\n",
    "\n",
    "from bs4 import BeautifulSoup\n",
    "import requests\n",
    "import pandas as pd\n",
    "\n",
    "from selenium import webdriver\n",
    "from selenium.common.exceptions import NoSuchElementException\n",
    "from selenium.common.exceptions import TimeoutException\n",
    "from selenium.webdriver.support.ui import WebDriverWait\n",
    "from selenium.webdriver.support import expected_conditions as EC\n",
    "from selenium.webdriver.common.by import By\n",
    "from selenium.webdriver.chrome.options import Options\n",
    "\n",
    "from tqdm.notebook import tqdm"
   ]
  },
  {
   "cell_type": "code",
   "execution_count": 32,
   "metadata": {},
   "outputs": [],
   "source": [
    "options = Options()\n",
    "options.add_argument('--headless')\n",
    "options.add_argument('--no-sandbox')\n",
    "options.add_argument('start-maximized')\n",
    "options.add_argument('disable-infobars')\n",
    "options.add_argument(\"--disable-extensions\")\n",
    "\n",
    "prefs = {\"profile.managed_default_content_settings.images\": 2}\n",
    "options.add_experimental_option(\"prefs\", prefs)\n",
    "\n",
    "driver = webdriver.Chrome('/usr/bin/chromedriver', options=options)\n",
    "\n",
    "timeout = 3"
   ]
  },
  {
   "cell_type": "code",
   "execution_count": 22,
   "metadata": {},
   "outputs": [],
   "source": [
    "base_url = \"https://trustpilot.com\""
   ]
  },
  {
   "cell_type": "code",
   "execution_count": null,
   "metadata": {},
   "outputs": [],
   "source": [
    "def get_soup(url):\n",
    "    return BeautifulSoup(requests.get(url).content, 'lxml')\n"
   ]
  },
  {
   "cell_type": "code",
   "execution_count": null,
   "metadata": {},
   "outputs": [],
   "source": [
    "data = {}\n",
    "\n",
    "soup = get_soup(base_url + '/categories')\n",
    "\n",
    "for categories in soup.find_all('div' ,{'class':'subCategory___BRUDy'}):\n",
    "    name = categories.find('a',{'class': 'navigation___2Efid'}).text\n",
    "    name = name.strip()\n",
    "    data[name] = {}\n",
    "    \n",
    "    sub_categories = categories.find('div', {'class': 'subCategoryList___r67Qj'})\n",
    "\n",
    "    for sub_category in sub_categories.findAll('div', {'class': 'subCategoryItem___3ksKz'}):\n",
    "        sub_category_name = sub_category.find('a', {'class': 'navigation___2Efid'}).text \n",
    "        sub_category_uri = sub_category.find('a', {'class': 'navigation___2Efid'})['href'] \n",
    "        data[name][sub_category_name] = sub_category_uri\n"
   ]
  },
  {
   "cell_type": "markdown",
   "metadata": {},
   "source": [
    "data"
   ]
  },
  {
   "cell_type": "markdown",
   "metadata": {},
   "source": [
    "len(data)"
   ]
  },
  {
   "cell_type": "code",
   "execution_count": 61,
   "metadata": {},
   "outputs": [],
   "source": [
    "def extract_company_urls_form_page():\n",
    "    a_list = driver.find_elements_by_xpath('//a[@class=\"wrapper___2rOTx\"]')\n",
    "    urls = [a.get_attribute('href') for a in a_list]\n",
    "    dedup_urls = list(set(urls))\n",
    "    return dedup_urls"
   ]
  },
  {
   "cell_type": "markdown",
   "metadata": {},
   "source": [
    "    dedup_urls[1]"
   ]
  },
  {
   "cell_type": "markdown",
   "metadata": {},
   "source": [
    "    driver.get(url)\n",
    "    a_list = driver.find_elements_by_xpath('//a[@class=\"wrapper___2rOTx\"]')\n",
    "    urls = [a.get_attribute('href') for a in a_list]\n",
    "    dedup_urls = list(set(urls))\n",
    "    print(dedup_urls)\n",
    "    print(len(dedup_urls))"
   ]
  },
  {
   "cell_type": "markdown",
   "metadata": {},
   "source": [
    "    url = base_url + data['Electronics & Technology']['Computers & Phones'] + \"?numberofreviews=0&timeperiod=0&status=all\"\n",
    "    url"
   ]
  },
  {
   "cell_type": "code",
   "execution_count": 63,
   "metadata": {},
   "outputs": [],
   "source": [
    "def go_next_page():\n",
    "    try:\n",
    "        button = driver.find_element_by_xpath('//a[@class=\"paginationLinkNormalize___scOgG paginationLinkNext___1LQ14\"]')\n",
    "        return True, button\n",
    "    except NoSuchElementException:\n",
    "        return False, None"
   ]
  },
  {
   "cell_type": "markdown",
   "metadata": {},
   "source": [
    "    button = driver.find_element_by_xpath('//a[@class=\"paginationLinkNormalize___scOgG paginationLinkNext___1LQ14\"]')\n",
    "    print(button)"
   ]
  },
  {
   "cell_type": "markdown",
   "metadata": {},
   "source": [
    "    next_url = base_url + data['Electronics & Technology']['Computers & Phones'] + \"?numberofreviews=0&timeperiod=0&status=all\" + f'&page={3}'\n",
    "    print(next_url)"
   ]
  },
  {
   "cell_type": "code",
   "execution_count": 64,
   "metadata": {},
   "outputs": [
    {
     "data": {
      "application/vnd.jupyter.widget-view+json": {
       "model_id": "1a1944872deb415281a3a3654f69597b",
       "version_major": 2,
       "version_minor": 0
      },
      "text/plain": [
       "HBox(children=(FloatProgress(value=0.0, max=22.0), HTML(value='')))"
      ]
     },
     "metadata": {},
     "output_type": "display_data"
    },
    {
     "data": {
      "application/vnd.jupyter.widget-view+json": {
       "model_id": "",
       "version_major": 2,
       "version_minor": 0
      },
      "text/plain": [
       "HBox(children=(FloatProgress(value=0.0, max=6.0), HTML(value='')))"
      ]
     },
     "metadata": {},
     "output_type": "display_data"
    },
    {
     "data": {
      "application/vnd.jupyter.widget-view+json": {
       "model_id": "",
       "version_major": 2,
       "version_minor": 0
      },
      "text/plain": [
       "HBox(children=(FloatProgress(value=0.0, max=7.0), HTML(value='')))"
      ]
     },
     "metadata": {},
     "output_type": "display_data"
    },
    {
     "data": {
      "application/vnd.jupyter.widget-view+json": {
       "model_id": "",
       "version_major": 2,
       "version_minor": 0
      },
      "text/plain": [
       "HBox(children=(FloatProgress(value=0.0, max=11.0), HTML(value='')))"
      ]
     },
     "metadata": {},
     "output_type": "display_data"
    },
    {
     "data": {
      "application/vnd.jupyter.widget-view+json": {
       "model_id": "",
       "version_major": 2,
       "version_minor": 0
      },
      "text/plain": [
       "HBox(children=(FloatProgress(value=0.0, max=11.0), HTML(value='')))"
      ]
     },
     "metadata": {},
     "output_type": "display_data"
    },
    {
     "data": {
      "application/vnd.jupyter.widget-view+json": {
       "model_id": "",
       "version_major": 2,
       "version_minor": 0
      },
      "text/plain": [
       "HBox(children=(FloatProgress(value=0.0, max=8.0), HTML(value='')))"
      ]
     },
     "metadata": {},
     "output_type": "display_data"
    },
    {
     "data": {
      "application/vnd.jupyter.widget-view+json": {
       "model_id": "",
       "version_major": 2,
       "version_minor": 0
      },
      "text/plain": [
       "HBox(children=(FloatProgress(value=0.0, max=5.0), HTML(value='')))"
      ]
     },
     "metadata": {},
     "output_type": "display_data"
    },
    {
     "data": {
      "application/vnd.jupyter.widget-view+json": {
       "model_id": "",
       "version_major": 2,
       "version_minor": 0
      },
      "text/plain": [
       "HBox(children=(FloatProgress(value=0.0, max=10.0), HTML(value='')))"
      ]
     },
     "metadata": {},
     "output_type": "display_data"
    },
    {
     "data": {
      "application/vnd.jupyter.widget-view+json": {
       "model_id": "",
       "version_major": 2,
       "version_minor": 0
      },
      "text/plain": [
       "HBox(children=(FloatProgress(value=0.0, max=15.0), HTML(value='')))"
      ]
     },
     "metadata": {},
     "output_type": "display_data"
    },
    {
     "data": {
      "application/vnd.jupyter.widget-view+json": {
       "model_id": "",
       "version_major": 2,
       "version_minor": 0
      },
      "text/plain": [
       "HBox(children=(FloatProgress(value=0.0, max=13.0), HTML(value='')))"
      ]
     },
     "metadata": {},
     "output_type": "display_data"
    },
    {
     "data": {
      "application/vnd.jupyter.widget-view+json": {
       "model_id": "",
       "version_major": 2,
       "version_minor": 0
      },
      "text/plain": [
       "HBox(children=(FloatProgress(value=0.0, max=9.0), HTML(value='')))"
      ]
     },
     "metadata": {},
     "output_type": "display_data"
    },
    {
     "data": {
      "application/vnd.jupyter.widget-view+json": {
       "model_id": "",
       "version_major": 2,
       "version_minor": 0
      },
      "text/plain": [
       "HBox(children=(FloatProgress(value=0.0, max=10.0), HTML(value='')))"
      ]
     },
     "metadata": {},
     "output_type": "display_data"
    },
    {
     "data": {
      "application/vnd.jupyter.widget-view+json": {
       "model_id": "",
       "version_major": 2,
       "version_minor": 0
      },
      "text/plain": [
       "HBox(children=(FloatProgress(value=0.0, max=7.0), HTML(value='')))"
      ]
     },
     "metadata": {},
     "output_type": "display_data"
    },
    {
     "data": {
      "application/vnd.jupyter.widget-view+json": {
       "model_id": "",
       "version_major": 2,
       "version_minor": 0
      },
      "text/plain": [
       "HBox(children=(FloatProgress(value=0.0, max=8.0), HTML(value='')))"
      ]
     },
     "metadata": {},
     "output_type": "display_data"
    },
    {
     "data": {
      "application/vnd.jupyter.widget-view+json": {
       "model_id": "",
       "version_major": 2,
       "version_minor": 0
      },
      "text/plain": [
       "HBox(children=(FloatProgress(value=0.0, max=4.0), HTML(value='')))"
      ]
     },
     "metadata": {},
     "output_type": "display_data"
    },
    {
     "data": {
      "application/vnd.jupyter.widget-view+json": {
       "model_id": "",
       "version_major": 2,
       "version_minor": 0
      },
      "text/plain": [
       "HBox(children=(FloatProgress(value=0.0, max=6.0), HTML(value='')))"
      ]
     },
     "metadata": {},
     "output_type": "display_data"
    },
    {
     "data": {
      "application/vnd.jupyter.widget-view+json": {
       "model_id": "",
       "version_major": 2,
       "version_minor": 0
      },
      "text/plain": [
       "HBox(children=(FloatProgress(value=0.0, max=11.0), HTML(value='')))"
      ]
     },
     "metadata": {},
     "output_type": "display_data"
    },
    {
     "data": {
      "application/vnd.jupyter.widget-view+json": {
       "model_id": "",
       "version_major": 2,
       "version_minor": 0
      },
      "text/plain": [
       "HBox(children=(FloatProgress(value=0.0, max=9.0), HTML(value='')))"
      ]
     },
     "metadata": {},
     "output_type": "display_data"
    },
    {
     "data": {
      "application/vnd.jupyter.widget-view+json": {
       "model_id": "",
       "version_major": 2,
       "version_minor": 0
      },
      "text/plain": [
       "HBox(children=(FloatProgress(value=0.0, max=6.0), HTML(value='')))"
      ]
     },
     "metadata": {},
     "output_type": "display_data"
    },
    {
     "data": {
      "application/vnd.jupyter.widget-view+json": {
       "model_id": "",
       "version_major": 2,
       "version_minor": 0
      },
      "text/plain": [
       "HBox(children=(FloatProgress(value=0.0, max=14.0), HTML(value='')))"
      ]
     },
     "metadata": {},
     "output_type": "display_data"
    },
    {
     "data": {
      "application/vnd.jupyter.widget-view+json": {
       "model_id": "",
       "version_major": 2,
       "version_minor": 0
      },
      "text/plain": [
       "HBox(children=(FloatProgress(value=0.0, max=5.0), HTML(value='')))"
      ]
     },
     "metadata": {},
     "output_type": "display_data"
    },
    {
     "data": {
      "application/vnd.jupyter.widget-view+json": {
       "model_id": "",
       "version_major": 2,
       "version_minor": 0
      },
      "text/plain": [
       "HBox(children=(FloatProgress(value=0.0, max=2.0), HTML(value='')))"
      ]
     },
     "metadata": {},
     "output_type": "display_data"
    },
    {
     "data": {
      "application/vnd.jupyter.widget-view+json": {
       "model_id": "",
       "version_major": 2,
       "version_minor": 0
      },
      "text/plain": [
       "HBox(children=(FloatProgress(value=0.0, max=10.0), HTML(value='')))"
      ]
     },
     "metadata": {},
     "output_type": "display_data"
    },
    {
     "name": "stdout",
     "output_type": "stream",
     "text": [
      "\n"
     ]
    }
   ],
   "source": [
    "company_urls = {}\n",
    "for category in tqdm(data):\n",
    "    for sub_category in tqdm(data[category], leave=False):\n",
    "        company_urls[sub_category] = []\n",
    "\n",
    "        url = base_url + data[category][sub_category] + \"?numberofreviews=0&timeperiod=0&status=all\"\n",
    "        driver.get(url)\n",
    "        try: \n",
    "            element_present = EC.presence_of_element_located(\n",
    "                (By.CLASS_NAME, 'wrapper___2rOTx'))\n",
    "            \n",
    "            WebDriverWait(driver, timeout).until(element_present)\n",
    "        except:\n",
    "            pass\n",
    "    \n",
    "        next_page = True\n",
    "        c = 1\n",
    "        while next_page:\n",
    "            extracted_company_urls = extract_company_urls_form_page()\n",
    "            company_urls[sub_category] += extracted_company_urls\n",
    "            next_page, button = go_next_page()\n",
    "            \n",
    "            if next_page:\n",
    "                c += 1\n",
    "                next_url = base_url + data[category][sub_category] + \"?numberofreviews=0&timeperiod=0&status=all\" + f'&page={c}'\n",
    "                driver.get(next_url)\n",
    "                try: \n",
    "                    element_present = EC.presence_of_element_located(\n",
    "                        (By.CLASS_NAME, 'wrapper___2rOTx'))\n",
    "                    \n",
    "                    WebDriverWait(driver, timeout).until(element_present)\n",
    "                except:\n",
    "                    pass\n"
   ]
  },
  {
   "cell_type": "code",
   "execution_count": 65,
   "metadata": {},
   "outputs": [],
   "source": [
    "with open('company_urls_en', 'w') as f:\n",
    "    json.dump(company_urls, f)"
   ]
  },
  {
   "cell_type": "code",
   "execution_count": 70,
   "metadata": {},
   "outputs": [],
   "source": [
    "consolidated_data = []\n",
    "\n",
    "for category in data:\n",
    "    for sub_category in data[category]:\n",
    "        for url in company_urls[sub_category]:\n",
    "            consolidated_data.append((category, sub_category, url))\n",
    "\n",
    "df_consolidated_data = pd.DataFrame(consolidated_data, columns=['category', 'sub_category', 'company_url'])\n",
    "\n",
    "df_consolidated_data.to_csv('company_urls_en.csv', index=False)"
   ]
  },
  {
   "cell_type": "code",
   "execution_count": 73,
   "metadata": {},
   "outputs": [
    {
     "data": {
      "text/html": [
       "<div>\n",
       "<style scoped>\n",
       "    .dataframe tbody tr th:only-of-type {\n",
       "        vertical-align: middle;\n",
       "    }\n",
       "\n",
       "    .dataframe tbody tr th {\n",
       "        vertical-align: top;\n",
       "    }\n",
       "\n",
       "    .dataframe thead th {\n",
       "        text-align: right;\n",
       "    }\n",
       "</style>\n",
       "<table border=\"1\" class=\"dataframe\">\n",
       "  <thead>\n",
       "    <tr style=\"text-align: right;\">\n",
       "      <th></th>\n",
       "      <th>category</th>\n",
       "      <th>sub_category</th>\n",
       "      <th>company_url</th>\n",
       "    </tr>\n",
       "  </thead>\n",
       "  <tbody>\n",
       "    <tr>\n",
       "      <th>12994</th>\n",
       "      <td>Vehicles &amp; Transportation</td>\n",
       "      <td>Vehical Rental</td>\n",
       "      <td>https://www.trustpilot.com/review/www.dcscoote...</td>\n",
       "    </tr>\n",
       "    <tr>\n",
       "      <th>12995</th>\n",
       "      <td>Vehicles &amp; Transportation</td>\n",
       "      <td>Vehical Rental</td>\n",
       "      <td>https://www.trustpilot.com/review/eurocarconne...</td>\n",
       "    </tr>\n",
       "    <tr>\n",
       "      <th>12996</th>\n",
       "      <td>Vehicles &amp; Transportation</td>\n",
       "      <td>Vehical Rental</td>\n",
       "      <td>https://www.trustpilot.com/review/www.cruiseam...</td>\n",
       "    </tr>\n",
       "    <tr>\n",
       "      <th>12997</th>\n",
       "      <td>Vehicles &amp; Transportation</td>\n",
       "      <td>Vehical Rental</td>\n",
       "      <td>https://twitter.com/Trustpilot</td>\n",
       "    </tr>\n",
       "    <tr>\n",
       "      <th>12998</th>\n",
       "      <td>Vehicles &amp; Transportation</td>\n",
       "      <td>Vehical Rental</td>\n",
       "      <td>https://www.trustpilot.com/about</td>\n",
       "    </tr>\n",
       "  </tbody>\n",
       "</table>\n",
       "</div>"
      ],
      "text/plain": [
       "                        category    sub_category  \\\n",
       "12994  Vehicles & Transportation  Vehical Rental   \n",
       "12995  Vehicles & Transportation  Vehical Rental   \n",
       "12996  Vehicles & Transportation  Vehical Rental   \n",
       "12997  Vehicles & Transportation  Vehical Rental   \n",
       "12998  Vehicles & Transportation  Vehical Rental   \n",
       "\n",
       "                                             company_url  \n",
       "12994  https://www.trustpilot.com/review/www.dcscoote...  \n",
       "12995  https://www.trustpilot.com/review/eurocarconne...  \n",
       "12996  https://www.trustpilot.com/review/www.cruiseam...  \n",
       "12997                     https://twitter.com/Trustpilot  \n",
       "12998                   https://www.trustpilot.com/about  "
      ]
     },
     "execution_count": 73,
     "metadata": {},
     "output_type": "execute_result"
    }
   ],
   "source": [
    "df_consolidated_data.tail()"
   ]
  }
 ],
 "metadata": {
  "kernelspec": {
   "display_name": "Python 3",
   "language": "python",
   "name": "python3"
  },
  "language_info": {
   "codemirror_mode": {
    "name": "ipython",
    "version": 3
   },
   "file_extension": ".py",
   "mimetype": "text/x-python",
   "name": "python",
   "nbconvert_exporter": "python",
   "pygments_lexer": "ipython3",
   "version": "3.6.8"
  }
 },
 "nbformat": 4,
 "nbformat_minor": 4
}
